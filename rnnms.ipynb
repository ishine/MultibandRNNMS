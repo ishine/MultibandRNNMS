{
  "nbformat": 4,
  "nbformat_minor": 0,
  "metadata": {
    "colab": {
      "name": "rnnms.ipynb",
      "private_outputs": true,
      "provenance": [],
      "collapsed_sections": []
    },
    "kernelspec": {
      "name": "python3",
      "display_name": "Python 3"
    },
    "accelerator": "GPU"
  },
  "cells": [
    {
      "cell_type": "markdown",
      "metadata": {
        "id": "4oWm0zXecPh6"
      },
      "source": [
        "# rnnms\n",
        "[![Generic badge](https://img.shields.io/badge/GitHub-rnnms-9cf.svg)][github]\n",
        "[![Open In Colab](https://colab.research.google.com/assets/colab-badge.svg)][notebook]\n",
        "\n",
        "Author: [tarepan]\n",
        "\n",
        "[github]:https://github.com/tarepan/UniversalVocoding\n",
        "[notebook]:https://colab.research.google.com/github/tarepan/UniversalVocoding/blob/main/rnnms.ipynb\n",
        "[tarepan]:https://github.com/tarepan"
      ]
    },
    {
      "cell_type": "markdown",
      "metadata": {
        "id": "QFQivUIyZyYi"
      },
      "source": [
        "## Colab Check\n",
        "Check\n",
        "- Google Colaboratory runnning time\n",
        "- GPU type\n",
        "- Python version\n",
        "- CUDA version"
      ]
    },
    {
      "cell_type": "code",
      "metadata": {
        "id": "4cwyMoXOZ7e1"
      },
      "source": [
        "!cat /proc/uptime | awk '{print $1 /60 /60 /24 \"days (\" $1 \"sec)\"}'\n",
        "!head -n 1 /proc/driver/nvidia/gpus/**/information\n",
        "!python --version\n",
        "!/usr/local/cuda/bin/nvcc --version"
      ],
      "execution_count": null,
      "outputs": []
    },
    {
      "cell_type": "markdown",
      "metadata": {
        "id": "K125Ein7VCwM"
      },
      "source": [
        "## Setup"
      ]
    },
    {
      "cell_type": "markdown",
      "metadata": {
        "id": "LJCLLQ_8cPiM"
      },
      "source": [
        "Install the package from `tarepan/UniversalVocoding` public repository"
      ]
    },
    {
      "cell_type": "code",
      "metadata": {
        "id": "wZ9fU-17Sdxb"
      },
      "source": [
        "# GoogleDrive\n",
        "from google.colab import drive\n",
        "drive.mount('/content/gdrive')\n",
        "\n",
        "# repository install\n",
        "!pip uninstall rnnms -y -q\n",
        "!pip install git+https://github.com/tarepan/UniversalVocoding -q"
      ],
      "execution_count": null,
      "outputs": []
    },
    {
      "cell_type": "markdown",
      "metadata": {
        "id": "ptA8A-dhEgqZ"
      },
      "source": [
        "## Training"
      ]
    },
    {
      "cell_type": "code",
      "metadata": {
        "id": "FKIasW5cTqhl"
      },
      "source": [
        "# Launch TensorBoard\n",
        "%load_ext tensorboard\n",
        "%tensorboard --logdir gdrive/MyDrive/ML_results/rnnms\n",
        "\n",
        "# Train\n",
        "!python -m rnnms.main_train \\\n",
        "    train.ckpt_log.dir_root=gdrive/MyDrive/ML_results/rnnms \\\n",
        "    train.ckpt_log.name_exp=2021 \\\n",
        "    train.ckpt_log.name_version=version_1 \\\n",
        "    data.adress_data_root=gdrive/MyDrive/ML_data"
      ],
      "execution_count": null,
      "outputs": []
    },
    {
      "cell_type": "code",
      "metadata": {
        "id": "0O2DDaFlcPiX"
      },
      "source": [
        "# # Usage stat\n",
        "# ## GPU\n",
        "# !nvidia-smi -l 3\n",
        "# ## CPU\n",
        "# !vmstat 5\n",
        "# !top"
      ],
      "execution_count": null,
      "outputs": []
    }
  ]
}